{
  "nbformat": 4,
  "nbformat_minor": 0,
  "metadata": {
    "colab": {
      "provenance": [],
      "authorship_tag": "ABX9TyNpEfYlGA2DVF/YGu3DmLvJ",
      "include_colab_link": true
    },
    "kernelspec": {
      "name": "python3",
      "display_name": "Python 3"
    },
    "language_info": {
      "name": "python"
    },
    "widgets": {
      "application/vnd.jupyter.widget-state+json": {
        "882e9095506a4869ab8b1a7d86646681": {
          "model_module": "@jupyter-widgets/controls",
          "model_name": "HBoxModel",
          "model_module_version": "1.5.0",
          "state": {
            "_dom_classes": [],
            "_model_module": "@jupyter-widgets/controls",
            "_model_module_version": "1.5.0",
            "_model_name": "HBoxModel",
            "_view_count": null,
            "_view_module": "@jupyter-widgets/controls",
            "_view_module_version": "1.5.0",
            "_view_name": "HBoxView",
            "box_style": "",
            "children": [
              "IPY_MODEL_5f3312686e6a4ad39f5359a6bc18572a",
              "IPY_MODEL_b02f9d1a7e854637a74218bfcbd655d2",
              "IPY_MODEL_22c289a9ad744cdcb2afa0de7d42b98c"
            ],
            "layout": "IPY_MODEL_902f3b1293a143aaafd688303f7685fd"
          }
        },
        "5f3312686e6a4ad39f5359a6bc18572a": {
          "model_module": "@jupyter-widgets/controls",
          "model_name": "HTMLModel",
          "model_module_version": "1.5.0",
          "state": {
            "_dom_classes": [],
            "_model_module": "@jupyter-widgets/controls",
            "_model_module_version": "1.5.0",
            "_model_name": "HTMLModel",
            "_view_count": null,
            "_view_module": "@jupyter-widgets/controls",
            "_view_module_version": "1.5.0",
            "_view_name": "HTMLView",
            "description": "",
            "description_tooltip": null,
            "layout": "IPY_MODEL_ad10fbe012154a8484883882291b3f78",
            "placeholder": "​",
            "style": "IPY_MODEL_1261c4181efa4878b69596a9d9508abc",
            "value": "Map: 100%"
          }
        },
        "b02f9d1a7e854637a74218bfcbd655d2": {
          "model_module": "@jupyter-widgets/controls",
          "model_name": "FloatProgressModel",
          "model_module_version": "1.5.0",
          "state": {
            "_dom_classes": [],
            "_model_module": "@jupyter-widgets/controls",
            "_model_module_version": "1.5.0",
            "_model_name": "FloatProgressModel",
            "_view_count": null,
            "_view_module": "@jupyter-widgets/controls",
            "_view_module_version": "1.5.0",
            "_view_name": "ProgressView",
            "bar_style": "success",
            "description": "",
            "description_tooltip": null,
            "layout": "IPY_MODEL_3105494fa9de4065b5776fcc859629e3",
            "max": 1000,
            "min": 0,
            "orientation": "horizontal",
            "style": "IPY_MODEL_68d89cee3a214d3792975e4ef7f96814",
            "value": 1000
          }
        },
        "22c289a9ad744cdcb2afa0de7d42b98c": {
          "model_module": "@jupyter-widgets/controls",
          "model_name": "HTMLModel",
          "model_module_version": "1.5.0",
          "state": {
            "_dom_classes": [],
            "_model_module": "@jupyter-widgets/controls",
            "_model_module_version": "1.5.0",
            "_model_name": "HTMLModel",
            "_view_count": null,
            "_view_module": "@jupyter-widgets/controls",
            "_view_module_version": "1.5.0",
            "_view_name": "HTMLView",
            "description": "",
            "description_tooltip": null,
            "layout": "IPY_MODEL_3b6c3f9bb9494fd4b28032620964ef9e",
            "placeholder": "​",
            "style": "IPY_MODEL_c98c3b017e824e5aa3cd4eb9efc7731c",
            "value": " 1000/1000 [00:00&lt;00:00, 1165.99 examples/s]"
          }
        },
        "902f3b1293a143aaafd688303f7685fd": {
          "model_module": "@jupyter-widgets/base",
          "model_name": "LayoutModel",
          "model_module_version": "1.2.0",
          "state": {
            "_model_module": "@jupyter-widgets/base",
            "_model_module_version": "1.2.0",
            "_model_name": "LayoutModel",
            "_view_count": null,
            "_view_module": "@jupyter-widgets/base",
            "_view_module_version": "1.2.0",
            "_view_name": "LayoutView",
            "align_content": null,
            "align_items": null,
            "align_self": null,
            "border": null,
            "bottom": null,
            "display": null,
            "flex": null,
            "flex_flow": null,
            "grid_area": null,
            "grid_auto_columns": null,
            "grid_auto_flow": null,
            "grid_auto_rows": null,
            "grid_column": null,
            "grid_gap": null,
            "grid_row": null,
            "grid_template_areas": null,
            "grid_template_columns": null,
            "grid_template_rows": null,
            "height": null,
            "justify_content": null,
            "justify_items": null,
            "left": null,
            "margin": null,
            "max_height": null,
            "max_width": null,
            "min_height": null,
            "min_width": null,
            "object_fit": null,
            "object_position": null,
            "order": null,
            "overflow": null,
            "overflow_x": null,
            "overflow_y": null,
            "padding": null,
            "right": null,
            "top": null,
            "visibility": null,
            "width": null
          }
        },
        "ad10fbe012154a8484883882291b3f78": {
          "model_module": "@jupyter-widgets/base",
          "model_name": "LayoutModel",
          "model_module_version": "1.2.0",
          "state": {
            "_model_module": "@jupyter-widgets/base",
            "_model_module_version": "1.2.0",
            "_model_name": "LayoutModel",
            "_view_count": null,
            "_view_module": "@jupyter-widgets/base",
            "_view_module_version": "1.2.0",
            "_view_name": "LayoutView",
            "align_content": null,
            "align_items": null,
            "align_self": null,
            "border": null,
            "bottom": null,
            "display": null,
            "flex": null,
            "flex_flow": null,
            "grid_area": null,
            "grid_auto_columns": null,
            "grid_auto_flow": null,
            "grid_auto_rows": null,
            "grid_column": null,
            "grid_gap": null,
            "grid_row": null,
            "grid_template_areas": null,
            "grid_template_columns": null,
            "grid_template_rows": null,
            "height": null,
            "justify_content": null,
            "justify_items": null,
            "left": null,
            "margin": null,
            "max_height": null,
            "max_width": null,
            "min_height": null,
            "min_width": null,
            "object_fit": null,
            "object_position": null,
            "order": null,
            "overflow": null,
            "overflow_x": null,
            "overflow_y": null,
            "padding": null,
            "right": null,
            "top": null,
            "visibility": null,
            "width": null
          }
        },
        "1261c4181efa4878b69596a9d9508abc": {
          "model_module": "@jupyter-widgets/controls",
          "model_name": "DescriptionStyleModel",
          "model_module_version": "1.5.0",
          "state": {
            "_model_module": "@jupyter-widgets/controls",
            "_model_module_version": "1.5.0",
            "_model_name": "DescriptionStyleModel",
            "_view_count": null,
            "_view_module": "@jupyter-widgets/base",
            "_view_module_version": "1.2.0",
            "_view_name": "StyleView",
            "description_width": ""
          }
        },
        "3105494fa9de4065b5776fcc859629e3": {
          "model_module": "@jupyter-widgets/base",
          "model_name": "LayoutModel",
          "model_module_version": "1.2.0",
          "state": {
            "_model_module": "@jupyter-widgets/base",
            "_model_module_version": "1.2.0",
            "_model_name": "LayoutModel",
            "_view_count": null,
            "_view_module": "@jupyter-widgets/base",
            "_view_module_version": "1.2.0",
            "_view_name": "LayoutView",
            "align_content": null,
            "align_items": null,
            "align_self": null,
            "border": null,
            "bottom": null,
            "display": null,
            "flex": null,
            "flex_flow": null,
            "grid_area": null,
            "grid_auto_columns": null,
            "grid_auto_flow": null,
            "grid_auto_rows": null,
            "grid_column": null,
            "grid_gap": null,
            "grid_row": null,
            "grid_template_areas": null,
            "grid_template_columns": null,
            "grid_template_rows": null,
            "height": null,
            "justify_content": null,
            "justify_items": null,
            "left": null,
            "margin": null,
            "max_height": null,
            "max_width": null,
            "min_height": null,
            "min_width": null,
            "object_fit": null,
            "object_position": null,
            "order": null,
            "overflow": null,
            "overflow_x": null,
            "overflow_y": null,
            "padding": null,
            "right": null,
            "top": null,
            "visibility": null,
            "width": null
          }
        },
        "68d89cee3a214d3792975e4ef7f96814": {
          "model_module": "@jupyter-widgets/controls",
          "model_name": "ProgressStyleModel",
          "model_module_version": "1.5.0",
          "state": {
            "_model_module": "@jupyter-widgets/controls",
            "_model_module_version": "1.5.0",
            "_model_name": "ProgressStyleModel",
            "_view_count": null,
            "_view_module": "@jupyter-widgets/base",
            "_view_module_version": "1.2.0",
            "_view_name": "StyleView",
            "bar_color": null,
            "description_width": ""
          }
        },
        "3b6c3f9bb9494fd4b28032620964ef9e": {
          "model_module": "@jupyter-widgets/base",
          "model_name": "LayoutModel",
          "model_module_version": "1.2.0",
          "state": {
            "_model_module": "@jupyter-widgets/base",
            "_model_module_version": "1.2.0",
            "_model_name": "LayoutModel",
            "_view_count": null,
            "_view_module": "@jupyter-widgets/base",
            "_view_module_version": "1.2.0",
            "_view_name": "LayoutView",
            "align_content": null,
            "align_items": null,
            "align_self": null,
            "border": null,
            "bottom": null,
            "display": null,
            "flex": null,
            "flex_flow": null,
            "grid_area": null,
            "grid_auto_columns": null,
            "grid_auto_flow": null,
            "grid_auto_rows": null,
            "grid_column": null,
            "grid_gap": null,
            "grid_row": null,
            "grid_template_areas": null,
            "grid_template_columns": null,
            "grid_template_rows": null,
            "height": null,
            "justify_content": null,
            "justify_items": null,
            "left": null,
            "margin": null,
            "max_height": null,
            "max_width": null,
            "min_height": null,
            "min_width": null,
            "object_fit": null,
            "object_position": null,
            "order": null,
            "overflow": null,
            "overflow_x": null,
            "overflow_y": null,
            "padding": null,
            "right": null,
            "top": null,
            "visibility": null,
            "width": null
          }
        },
        "c98c3b017e824e5aa3cd4eb9efc7731c": {
          "model_module": "@jupyter-widgets/controls",
          "model_name": "DescriptionStyleModel",
          "model_module_version": "1.5.0",
          "state": {
            "_model_module": "@jupyter-widgets/controls",
            "_model_module_version": "1.5.0",
            "_model_name": "DescriptionStyleModel",
            "_view_count": null,
            "_view_module": "@jupyter-widgets/base",
            "_view_module_version": "1.2.0",
            "_view_name": "StyleView",
            "description_width": ""
          }
        },
        "fa3ed006f1fe4e5995ee222d7d8a0cf7": {
          "model_module": "@jupyter-widgets/controls",
          "model_name": "HBoxModel",
          "model_module_version": "1.5.0",
          "state": {
            "_dom_classes": [],
            "_model_module": "@jupyter-widgets/controls",
            "_model_module_version": "1.5.0",
            "_model_name": "HBoxModel",
            "_view_count": null,
            "_view_module": "@jupyter-widgets/controls",
            "_view_module_version": "1.5.0",
            "_view_name": "HBoxView",
            "box_style": "",
            "children": [
              "IPY_MODEL_2ed1f90a89ce4cab8aea23562c524251",
              "IPY_MODEL_f569b71d3eac415898dc0a43df62528f",
              "IPY_MODEL_0e256a97161a4c16a2f5876a613ccf42"
            ],
            "layout": "IPY_MODEL_cc39eed17eaf415a89f23afba95f8b72"
          }
        },
        "2ed1f90a89ce4cab8aea23562c524251": {
          "model_module": "@jupyter-widgets/controls",
          "model_name": "HTMLModel",
          "model_module_version": "1.5.0",
          "state": {
            "_dom_classes": [],
            "_model_module": "@jupyter-widgets/controls",
            "_model_module_version": "1.5.0",
            "_model_name": "HTMLModel",
            "_view_count": null,
            "_view_module": "@jupyter-widgets/controls",
            "_view_module_version": "1.5.0",
            "_view_name": "HTMLView",
            "description": "",
            "description_tooltip": null,
            "layout": "IPY_MODEL_5c4d6a4b39a649ce82bb20563ca28bc2",
            "placeholder": "​",
            "style": "IPY_MODEL_138b2564161043d28c82b50c9bdb671a",
            "value": "Map: 100%"
          }
        },
        "f569b71d3eac415898dc0a43df62528f": {
          "model_module": "@jupyter-widgets/controls",
          "model_name": "FloatProgressModel",
          "model_module_version": "1.5.0",
          "state": {
            "_dom_classes": [],
            "_model_module": "@jupyter-widgets/controls",
            "_model_module_version": "1.5.0",
            "_model_name": "FloatProgressModel",
            "_view_count": null,
            "_view_module": "@jupyter-widgets/controls",
            "_view_module_version": "1.5.0",
            "_view_name": "ProgressView",
            "bar_style": "success",
            "description": "",
            "description_tooltip": null,
            "layout": "IPY_MODEL_5997dcadc56446e19a22f53fb43684c4",
            "max": 100,
            "min": 0,
            "orientation": "horizontal",
            "style": "IPY_MODEL_ee65b24905cd431f92b10bfb9f34e4a6",
            "value": 100
          }
        },
        "0e256a97161a4c16a2f5876a613ccf42": {
          "model_module": "@jupyter-widgets/controls",
          "model_name": "HTMLModel",
          "model_module_version": "1.5.0",
          "state": {
            "_dom_classes": [],
            "_model_module": "@jupyter-widgets/controls",
            "_model_module_version": "1.5.0",
            "_model_name": "HTMLModel",
            "_view_count": null,
            "_view_module": "@jupyter-widgets/controls",
            "_view_module_version": "1.5.0",
            "_view_name": "HTMLView",
            "description": "",
            "description_tooltip": null,
            "layout": "IPY_MODEL_53a60cb0728a4b49ab38aafad7b24649",
            "placeholder": "​",
            "style": "IPY_MODEL_bb6c3fbee5574c379bb00813ed4c8618",
            "value": " 100/100 [00:00&lt;00:00, 662.62 examples/s]"
          }
        },
        "cc39eed17eaf415a89f23afba95f8b72": {
          "model_module": "@jupyter-widgets/base",
          "model_name": "LayoutModel",
          "model_module_version": "1.2.0",
          "state": {
            "_model_module": "@jupyter-widgets/base",
            "_model_module_version": "1.2.0",
            "_model_name": "LayoutModel",
            "_view_count": null,
            "_view_module": "@jupyter-widgets/base",
            "_view_module_version": "1.2.0",
            "_view_name": "LayoutView",
            "align_content": null,
            "align_items": null,
            "align_self": null,
            "border": null,
            "bottom": null,
            "display": null,
            "flex": null,
            "flex_flow": null,
            "grid_area": null,
            "grid_auto_columns": null,
            "grid_auto_flow": null,
            "grid_auto_rows": null,
            "grid_column": null,
            "grid_gap": null,
            "grid_row": null,
            "grid_template_areas": null,
            "grid_template_columns": null,
            "grid_template_rows": null,
            "height": null,
            "justify_content": null,
            "justify_items": null,
            "left": null,
            "margin": null,
            "max_height": null,
            "max_width": null,
            "min_height": null,
            "min_width": null,
            "object_fit": null,
            "object_position": null,
            "order": null,
            "overflow": null,
            "overflow_x": null,
            "overflow_y": null,
            "padding": null,
            "right": null,
            "top": null,
            "visibility": null,
            "width": null
          }
        },
        "5c4d6a4b39a649ce82bb20563ca28bc2": {
          "model_module": "@jupyter-widgets/base",
          "model_name": "LayoutModel",
          "model_module_version": "1.2.0",
          "state": {
            "_model_module": "@jupyter-widgets/base",
            "_model_module_version": "1.2.0",
            "_model_name": "LayoutModel",
            "_view_count": null,
            "_view_module": "@jupyter-widgets/base",
            "_view_module_version": "1.2.0",
            "_view_name": "LayoutView",
            "align_content": null,
            "align_items": null,
            "align_self": null,
            "border": null,
            "bottom": null,
            "display": null,
            "flex": null,
            "flex_flow": null,
            "grid_area": null,
            "grid_auto_columns": null,
            "grid_auto_flow": null,
            "grid_auto_rows": null,
            "grid_column": null,
            "grid_gap": null,
            "grid_row": null,
            "grid_template_areas": null,
            "grid_template_columns": null,
            "grid_template_rows": null,
            "height": null,
            "justify_content": null,
            "justify_items": null,
            "left": null,
            "margin": null,
            "max_height": null,
            "max_width": null,
            "min_height": null,
            "min_width": null,
            "object_fit": null,
            "object_position": null,
            "order": null,
            "overflow": null,
            "overflow_x": null,
            "overflow_y": null,
            "padding": null,
            "right": null,
            "top": null,
            "visibility": null,
            "width": null
          }
        },
        "138b2564161043d28c82b50c9bdb671a": {
          "model_module": "@jupyter-widgets/controls",
          "model_name": "DescriptionStyleModel",
          "model_module_version": "1.5.0",
          "state": {
            "_model_module": "@jupyter-widgets/controls",
            "_model_module_version": "1.5.0",
            "_model_name": "DescriptionStyleModel",
            "_view_count": null,
            "_view_module": "@jupyter-widgets/base",
            "_view_module_version": "1.2.0",
            "_view_name": "StyleView",
            "description_width": ""
          }
        },
        "5997dcadc56446e19a22f53fb43684c4": {
          "model_module": "@jupyter-widgets/base",
          "model_name": "LayoutModel",
          "model_module_version": "1.2.0",
          "state": {
            "_model_module": "@jupyter-widgets/base",
            "_model_module_version": "1.2.0",
            "_model_name": "LayoutModel",
            "_view_count": null,
            "_view_module": "@jupyter-widgets/base",
            "_view_module_version": "1.2.0",
            "_view_name": "LayoutView",
            "align_content": null,
            "align_items": null,
            "align_self": null,
            "border": null,
            "bottom": null,
            "display": null,
            "flex": null,
            "flex_flow": null,
            "grid_area": null,
            "grid_auto_columns": null,
            "grid_auto_flow": null,
            "grid_auto_rows": null,
            "grid_column": null,
            "grid_gap": null,
            "grid_row": null,
            "grid_template_areas": null,
            "grid_template_columns": null,
            "grid_template_rows": null,
            "height": null,
            "justify_content": null,
            "justify_items": null,
            "left": null,
            "margin": null,
            "max_height": null,
            "max_width": null,
            "min_height": null,
            "min_width": null,
            "object_fit": null,
            "object_position": null,
            "order": null,
            "overflow": null,
            "overflow_x": null,
            "overflow_y": null,
            "padding": null,
            "right": null,
            "top": null,
            "visibility": null,
            "width": null
          }
        },
        "ee65b24905cd431f92b10bfb9f34e4a6": {
          "model_module": "@jupyter-widgets/controls",
          "model_name": "ProgressStyleModel",
          "model_module_version": "1.5.0",
          "state": {
            "_model_module": "@jupyter-widgets/controls",
            "_model_module_version": "1.5.0",
            "_model_name": "ProgressStyleModel",
            "_view_count": null,
            "_view_module": "@jupyter-widgets/base",
            "_view_module_version": "1.2.0",
            "_view_name": "StyleView",
            "bar_color": null,
            "description_width": ""
          }
        },
        "53a60cb0728a4b49ab38aafad7b24649": {
          "model_module": "@jupyter-widgets/base",
          "model_name": "LayoutModel",
          "model_module_version": "1.2.0",
          "state": {
            "_model_module": "@jupyter-widgets/base",
            "_model_module_version": "1.2.0",
            "_model_name": "LayoutModel",
            "_view_count": null,
            "_view_module": "@jupyter-widgets/base",
            "_view_module_version": "1.2.0",
            "_view_name": "LayoutView",
            "align_content": null,
            "align_items": null,
            "align_self": null,
            "border": null,
            "bottom": null,
            "display": null,
            "flex": null,
            "flex_flow": null,
            "grid_area": null,
            "grid_auto_columns": null,
            "grid_auto_flow": null,
            "grid_auto_rows": null,
            "grid_column": null,
            "grid_gap": null,
            "grid_row": null,
            "grid_template_areas": null,
            "grid_template_columns": null,
            "grid_template_rows": null,
            "height": null,
            "justify_content": null,
            "justify_items": null,
            "left": null,
            "margin": null,
            "max_height": null,
            "max_width": null,
            "min_height": null,
            "min_width": null,
            "object_fit": null,
            "object_position": null,
            "order": null,
            "overflow": null,
            "overflow_x": null,
            "overflow_y": null,
            "padding": null,
            "right": null,
            "top": null,
            "visibility": null,
            "width": null
          }
        },
        "bb6c3fbee5574c379bb00813ed4c8618": {
          "model_module": "@jupyter-widgets/controls",
          "model_name": "DescriptionStyleModel",
          "model_module_version": "1.5.0",
          "state": {
            "_model_module": "@jupyter-widgets/controls",
            "_model_module_version": "1.5.0",
            "_model_name": "DescriptionStyleModel",
            "_view_count": null,
            "_view_module": "@jupyter-widgets/base",
            "_view_module_version": "1.2.0",
            "_view_name": "StyleView",
            "description_width": ""
          }
        },
        "22484d543c50440b88102569e369e845": {
          "model_module": "@jupyter-widgets/controls",
          "model_name": "HBoxModel",
          "model_module_version": "1.5.0",
          "state": {
            "_dom_classes": [],
            "_model_module": "@jupyter-widgets/controls",
            "_model_module_version": "1.5.0",
            "_model_name": "HBoxModel",
            "_view_count": null,
            "_view_module": "@jupyter-widgets/controls",
            "_view_module_version": "1.5.0",
            "_view_name": "HBoxView",
            "box_style": "",
            "children": [
              "IPY_MODEL_acc269c05c024f159bb9b401f1ab0841",
              "IPY_MODEL_075a7fea85674ba4bc7db4d5c51b2e4f",
              "IPY_MODEL_2eb5df44939044c38d07cba03be6dc9f"
            ],
            "layout": "IPY_MODEL_5508eb64763e4dada7971c0fa22b6b97"
          }
        },
        "acc269c05c024f159bb9b401f1ab0841": {
          "model_module": "@jupyter-widgets/controls",
          "model_name": "HTMLModel",
          "model_module_version": "1.5.0",
          "state": {
            "_dom_classes": [],
            "_model_module": "@jupyter-widgets/controls",
            "_model_module_version": "1.5.0",
            "_model_name": "HTMLModel",
            "_view_count": null,
            "_view_module": "@jupyter-widgets/controls",
            "_view_module_version": "1.5.0",
            "_view_name": "HTMLView",
            "description": "",
            "description_tooltip": null,
            "layout": "IPY_MODEL_973e8a2e05c4401b9cc9dd628ce4c132",
            "placeholder": "​",
            "style": "IPY_MODEL_e9be14340b6b450ca4a91146adcbad81",
            "value": "Downloading builder script: "
          }
        },
        "075a7fea85674ba4bc7db4d5c51b2e4f": {
          "model_module": "@jupyter-widgets/controls",
          "model_name": "FloatProgressModel",
          "model_module_version": "1.5.0",
          "state": {
            "_dom_classes": [],
            "_model_module": "@jupyter-widgets/controls",
            "_model_module_version": "1.5.0",
            "_model_name": "FloatProgressModel",
            "_view_count": null,
            "_view_module": "@jupyter-widgets/controls",
            "_view_module_version": "1.5.0",
            "_view_name": "ProgressView",
            "bar_style": "success",
            "description": "",
            "description_tooltip": null,
            "layout": "IPY_MODEL_349d9ecea10c48f580d90bd4d63f6463",
            "max": 1652,
            "min": 0,
            "orientation": "horizontal",
            "style": "IPY_MODEL_0797f1bf417b4593b4d1f59d049fa978",
            "value": 1652
          }
        },
        "2eb5df44939044c38d07cba03be6dc9f": {
          "model_module": "@jupyter-widgets/controls",
          "model_name": "HTMLModel",
          "model_module_version": "1.5.0",
          "state": {
            "_dom_classes": [],
            "_model_module": "@jupyter-widgets/controls",
            "_model_module_version": "1.5.0",
            "_model_name": "HTMLModel",
            "_view_count": null,
            "_view_module": "@jupyter-widgets/controls",
            "_view_module_version": "1.5.0",
            "_view_name": "HTMLView",
            "description": "",
            "description_tooltip": null,
            "layout": "IPY_MODEL_84a18e786eca4b40aae6000560b516ec",
            "placeholder": "​",
            "style": "IPY_MODEL_3beaa754550d4fd58283dca13b353955",
            "value": " 4.21k/? [00:00&lt;00:00, 227kB/s]"
          }
        },
        "5508eb64763e4dada7971c0fa22b6b97": {
          "model_module": "@jupyter-widgets/base",
          "model_name": "LayoutModel",
          "model_module_version": "1.2.0",
          "state": {
            "_model_module": "@jupyter-widgets/base",
            "_model_module_version": "1.2.0",
            "_model_name": "LayoutModel",
            "_view_count": null,
            "_view_module": "@jupyter-widgets/base",
            "_view_module_version": "1.2.0",
            "_view_name": "LayoutView",
            "align_content": null,
            "align_items": null,
            "align_self": null,
            "border": null,
            "bottom": null,
            "display": null,
            "flex": null,
            "flex_flow": null,
            "grid_area": null,
            "grid_auto_columns": null,
            "grid_auto_flow": null,
            "grid_auto_rows": null,
            "grid_column": null,
            "grid_gap": null,
            "grid_row": null,
            "grid_template_areas": null,
            "grid_template_columns": null,
            "grid_template_rows": null,
            "height": null,
            "justify_content": null,
            "justify_items": null,
            "left": null,
            "margin": null,
            "max_height": null,
            "max_width": null,
            "min_height": null,
            "min_width": null,
            "object_fit": null,
            "object_position": null,
            "order": null,
            "overflow": null,
            "overflow_x": null,
            "overflow_y": null,
            "padding": null,
            "right": null,
            "top": null,
            "visibility": null,
            "width": null
          }
        },
        "973e8a2e05c4401b9cc9dd628ce4c132": {
          "model_module": "@jupyter-widgets/base",
          "model_name": "LayoutModel",
          "model_module_version": "1.2.0",
          "state": {
            "_model_module": "@jupyter-widgets/base",
            "_model_module_version": "1.2.0",
            "_model_name": "LayoutModel",
            "_view_count": null,
            "_view_module": "@jupyter-widgets/base",
            "_view_module_version": "1.2.0",
            "_view_name": "LayoutView",
            "align_content": null,
            "align_items": null,
            "align_self": null,
            "border": null,
            "bottom": null,
            "display": null,
            "flex": null,
            "flex_flow": null,
            "grid_area": null,
            "grid_auto_columns": null,
            "grid_auto_flow": null,
            "grid_auto_rows": null,
            "grid_column": null,
            "grid_gap": null,
            "grid_row": null,
            "grid_template_areas": null,
            "grid_template_columns": null,
            "grid_template_rows": null,
            "height": null,
            "justify_content": null,
            "justify_items": null,
            "left": null,
            "margin": null,
            "max_height": null,
            "max_width": null,
            "min_height": null,
            "min_width": null,
            "object_fit": null,
            "object_position": null,
            "order": null,
            "overflow": null,
            "overflow_x": null,
            "overflow_y": null,
            "padding": null,
            "right": null,
            "top": null,
            "visibility": null,
            "width": null
          }
        },
        "e9be14340b6b450ca4a91146adcbad81": {
          "model_module": "@jupyter-widgets/controls",
          "model_name": "DescriptionStyleModel",
          "model_module_version": "1.5.0",
          "state": {
            "_model_module": "@jupyter-widgets/controls",
            "_model_module_version": "1.5.0",
            "_model_name": "DescriptionStyleModel",
            "_view_count": null,
            "_view_module": "@jupyter-widgets/base",
            "_view_module_version": "1.2.0",
            "_view_name": "StyleView",
            "description_width": ""
          }
        },
        "349d9ecea10c48f580d90bd4d63f6463": {
          "model_module": "@jupyter-widgets/base",
          "model_name": "LayoutModel",
          "model_module_version": "1.2.0",
          "state": {
            "_model_module": "@jupyter-widgets/base",
            "_model_module_version": "1.2.0",
            "_model_name": "LayoutModel",
            "_view_count": null,
            "_view_module": "@jupyter-widgets/base",
            "_view_module_version": "1.2.0",
            "_view_name": "LayoutView",
            "align_content": null,
            "align_items": null,
            "align_self": null,
            "border": null,
            "bottom": null,
            "display": null,
            "flex": null,
            "flex_flow": null,
            "grid_area": null,
            "grid_auto_columns": null,
            "grid_auto_flow": null,
            "grid_auto_rows": null,
            "grid_column": null,
            "grid_gap": null,
            "grid_row": null,
            "grid_template_areas": null,
            "grid_template_columns": null,
            "grid_template_rows": null,
            "height": null,
            "justify_content": null,
            "justify_items": null,
            "left": null,
            "margin": null,
            "max_height": null,
            "max_width": null,
            "min_height": null,
            "min_width": null,
            "object_fit": null,
            "object_position": null,
            "order": null,
            "overflow": null,
            "overflow_x": null,
            "overflow_y": null,
            "padding": null,
            "right": null,
            "top": null,
            "visibility": null,
            "width": null
          }
        },
        "0797f1bf417b4593b4d1f59d049fa978": {
          "model_module": "@jupyter-widgets/controls",
          "model_name": "ProgressStyleModel",
          "model_module_version": "1.5.0",
          "state": {
            "_model_module": "@jupyter-widgets/controls",
            "_model_module_version": "1.5.0",
            "_model_name": "ProgressStyleModel",
            "_view_count": null,
            "_view_module": "@jupyter-widgets/base",
            "_view_module_version": "1.2.0",
            "_view_name": "StyleView",
            "bar_color": null,
            "description_width": ""
          }
        },
        "84a18e786eca4b40aae6000560b516ec": {
          "model_module": "@jupyter-widgets/base",
          "model_name": "LayoutModel",
          "model_module_version": "1.2.0",
          "state": {
            "_model_module": "@jupyter-widgets/base",
            "_model_module_version": "1.2.0",
            "_model_name": "LayoutModel",
            "_view_count": null,
            "_view_module": "@jupyter-widgets/base",
            "_view_module_version": "1.2.0",
            "_view_name": "LayoutView",
            "align_content": null,
            "align_items": null,
            "align_self": null,
            "border": null,
            "bottom": null,
            "display": null,
            "flex": null,
            "flex_flow": null,
            "grid_area": null,
            "grid_auto_columns": null,
            "grid_auto_flow": null,
            "grid_auto_rows": null,
            "grid_column": null,
            "grid_gap": null,
            "grid_row": null,
            "grid_template_areas": null,
            "grid_template_columns": null,
            "grid_template_rows": null,
            "height": null,
            "justify_content": null,
            "justify_items": null,
            "left": null,
            "margin": null,
            "max_height": null,
            "max_width": null,
            "min_height": null,
            "min_width": null,
            "object_fit": null,
            "object_position": null,
            "order": null,
            "overflow": null,
            "overflow_x": null,
            "overflow_y": null,
            "padding": null,
            "right": null,
            "top": null,
            "visibility": null,
            "width": null
          }
        },
        "3beaa754550d4fd58283dca13b353955": {
          "model_module": "@jupyter-widgets/controls",
          "model_name": "DescriptionStyleModel",
          "model_module_version": "1.5.0",
          "state": {
            "_model_module": "@jupyter-widgets/controls",
            "_model_module_version": "1.5.0",
            "_model_name": "DescriptionStyleModel",
            "_view_count": null,
            "_view_module": "@jupyter-widgets/base",
            "_view_module_version": "1.2.0",
            "_view_name": "StyleView",
            "description_width": ""
          }
        },
        "33d36901f5984cd3b0df04da20f0f41b": {
          "model_module": "@jupyter-widgets/controls",
          "model_name": "HBoxModel",
          "model_module_version": "1.5.0",
          "state": {
            "_dom_classes": [],
            "_model_module": "@jupyter-widgets/controls",
            "_model_module_version": "1.5.0",
            "_model_name": "HBoxModel",
            "_view_count": null,
            "_view_module": "@jupyter-widgets/controls",
            "_view_module_version": "1.5.0",
            "_view_name": "HBoxView",
            "box_style": "",
            "children": [
              "IPY_MODEL_ff09be8cee414845b979c5facaec420f",
              "IPY_MODEL_126bafc854a64091983113c8440b24c8",
              "IPY_MODEL_5da420eb7bc44703a498b195ffb3e60d"
            ],
            "layout": "IPY_MODEL_92e4e8df58674281bd1b49a4b0474a20"
          }
        },
        "ff09be8cee414845b979c5facaec420f": {
          "model_module": "@jupyter-widgets/controls",
          "model_name": "HTMLModel",
          "model_module_version": "1.5.0",
          "state": {
            "_dom_classes": [],
            "_model_module": "@jupyter-widgets/controls",
            "_model_module_version": "1.5.0",
            "_model_name": "HTMLModel",
            "_view_count": null,
            "_view_module": "@jupyter-widgets/controls",
            "_view_module_version": "1.5.0",
            "_view_name": "HTMLView",
            "description": "",
            "description_tooltip": null,
            "layout": "IPY_MODEL_b022fdd606dd45088cf000a987a2b1b9",
            "placeholder": "​",
            "style": "IPY_MODEL_698808e3b8f343b8bb794d5d955fe014",
            "value": "Downloading builder script: "
          }
        },
        "126bafc854a64091983113c8440b24c8": {
          "model_module": "@jupyter-widgets/controls",
          "model_name": "FloatProgressModel",
          "model_module_version": "1.5.0",
          "state": {
            "_dom_classes": [],
            "_model_module": "@jupyter-widgets/controls",
            "_model_module_version": "1.5.0",
            "_model_name": "FloatProgressModel",
            "_view_count": null,
            "_view_module": "@jupyter-widgets/controls",
            "_view_module_version": "1.5.0",
            "_view_name": "ProgressView",
            "bar_style": "success",
            "description": "",
            "description_tooltip": null,
            "layout": "IPY_MODEL_8dc4a679ad044f999aa00b0a40840a74",
            "max": 2318,
            "min": 0,
            "orientation": "horizontal",
            "style": "IPY_MODEL_42e5ff48776f4d0c91a6b9c86936d840",
            "value": 2318
          }
        },
        "5da420eb7bc44703a498b195ffb3e60d": {
          "model_module": "@jupyter-widgets/controls",
          "model_name": "HTMLModel",
          "model_module_version": "1.5.0",
          "state": {
            "_dom_classes": [],
            "_model_module": "@jupyter-widgets/controls",
            "_model_module_version": "1.5.0",
            "_model_name": "HTMLModel",
            "_view_count": null,
            "_view_module": "@jupyter-widgets/controls",
            "_view_module_version": "1.5.0",
            "_view_name": "HTMLView",
            "description": "",
            "description_tooltip": null,
            "layout": "IPY_MODEL_9652bd7801284c69897739ccef3021f3",
            "placeholder": "​",
            "style": "IPY_MODEL_21e7fba8f41e4f9896a24c4f13774e0d",
            "value": " 6.50k/? [00:00&lt;00:00, 388kB/s]"
          }
        },
        "92e4e8df58674281bd1b49a4b0474a20": {
          "model_module": "@jupyter-widgets/base",
          "model_name": "LayoutModel",
          "model_module_version": "1.2.0",
          "state": {
            "_model_module": "@jupyter-widgets/base",
            "_model_module_version": "1.2.0",
            "_model_name": "LayoutModel",
            "_view_count": null,
            "_view_module": "@jupyter-widgets/base",
            "_view_module_version": "1.2.0",
            "_view_name": "LayoutView",
            "align_content": null,
            "align_items": null,
            "align_self": null,
            "border": null,
            "bottom": null,
            "display": null,
            "flex": null,
            "flex_flow": null,
            "grid_area": null,
            "grid_auto_columns": null,
            "grid_auto_flow": null,
            "grid_auto_rows": null,
            "grid_column": null,
            "grid_gap": null,
            "grid_row": null,
            "grid_template_areas": null,
            "grid_template_columns": null,
            "grid_template_rows": null,
            "height": null,
            "justify_content": null,
            "justify_items": null,
            "left": null,
            "margin": null,
            "max_height": null,
            "max_width": null,
            "min_height": null,
            "min_width": null,
            "object_fit": null,
            "object_position": null,
            "order": null,
            "overflow": null,
            "overflow_x": null,
            "overflow_y": null,
            "padding": null,
            "right": null,
            "top": null,
            "visibility": null,
            "width": null
          }
        },
        "b022fdd606dd45088cf000a987a2b1b9": {
          "model_module": "@jupyter-widgets/base",
          "model_name": "LayoutModel",
          "model_module_version": "1.2.0",
          "state": {
            "_model_module": "@jupyter-widgets/base",
            "_model_module_version": "1.2.0",
            "_model_name": "LayoutModel",
            "_view_count": null,
            "_view_module": "@jupyter-widgets/base",
            "_view_module_version": "1.2.0",
            "_view_name": "LayoutView",
            "align_content": null,
            "align_items": null,
            "align_self": null,
            "border": null,
            "bottom": null,
            "display": null,
            "flex": null,
            "flex_flow": null,
            "grid_area": null,
            "grid_auto_columns": null,
            "grid_auto_flow": null,
            "grid_auto_rows": null,
            "grid_column": null,
            "grid_gap": null,
            "grid_row": null,
            "grid_template_areas": null,
            "grid_template_columns": null,
            "grid_template_rows": null,
            "height": null,
            "justify_content": null,
            "justify_items": null,
            "left": null,
            "margin": null,
            "max_height": null,
            "max_width": null,
            "min_height": null,
            "min_width": null,
            "object_fit": null,
            "object_position": null,
            "order": null,
            "overflow": null,
            "overflow_x": null,
            "overflow_y": null,
            "padding": null,
            "right": null,
            "top": null,
            "visibility": null,
            "width": null
          }
        },
        "698808e3b8f343b8bb794d5d955fe014": {
          "model_module": "@jupyter-widgets/controls",
          "model_name": "DescriptionStyleModel",
          "model_module_version": "1.5.0",
          "state": {
            "_model_module": "@jupyter-widgets/controls",
            "_model_module_version": "1.5.0",
            "_model_name": "DescriptionStyleModel",
            "_view_count": null,
            "_view_module": "@jupyter-widgets/base",
            "_view_module_version": "1.2.0",
            "_view_name": "StyleView",
            "description_width": ""
          }
        },
        "8dc4a679ad044f999aa00b0a40840a74": {
          "model_module": "@jupyter-widgets/base",
          "model_name": "LayoutModel",
          "model_module_version": "1.2.0",
          "state": {
            "_model_module": "@jupyter-widgets/base",
            "_model_module_version": "1.2.0",
            "_model_name": "LayoutModel",
            "_view_count": null,
            "_view_module": "@jupyter-widgets/base",
            "_view_module_version": "1.2.0",
            "_view_name": "LayoutView",
            "align_content": null,
            "align_items": null,
            "align_self": null,
            "border": null,
            "bottom": null,
            "display": null,
            "flex": null,
            "flex_flow": null,
            "grid_area": null,
            "grid_auto_columns": null,
            "grid_auto_flow": null,
            "grid_auto_rows": null,
            "grid_column": null,
            "grid_gap": null,
            "grid_row": null,
            "grid_template_areas": null,
            "grid_template_columns": null,
            "grid_template_rows": null,
            "height": null,
            "justify_content": null,
            "justify_items": null,
            "left": null,
            "margin": null,
            "max_height": null,
            "max_width": null,
            "min_height": null,
            "min_width": null,
            "object_fit": null,
            "object_position": null,
            "order": null,
            "overflow": null,
            "overflow_x": null,
            "overflow_y": null,
            "padding": null,
            "right": null,
            "top": null,
            "visibility": null,
            "width": null
          }
        },
        "42e5ff48776f4d0c91a6b9c86936d840": {
          "model_module": "@jupyter-widgets/controls",
          "model_name": "ProgressStyleModel",
          "model_module_version": "1.5.0",
          "state": {
            "_model_module": "@jupyter-widgets/controls",
            "_model_module_version": "1.5.0",
            "_model_name": "ProgressStyleModel",
            "_view_count": null,
            "_view_module": "@jupyter-widgets/base",
            "_view_module_version": "1.2.0",
            "_view_name": "StyleView",
            "bar_color": null,
            "description_width": ""
          }
        },
        "9652bd7801284c69897739ccef3021f3": {
          "model_module": "@jupyter-widgets/base",
          "model_name": "LayoutModel",
          "model_module_version": "1.2.0",
          "state": {
            "_model_module": "@jupyter-widgets/base",
            "_model_module_version": "1.2.0",
            "_model_name": "LayoutModel",
            "_view_count": null,
            "_view_module": "@jupyter-widgets/base",
            "_view_module_version": "1.2.0",
            "_view_name": "LayoutView",
            "align_content": null,
            "align_items": null,
            "align_self": null,
            "border": null,
            "bottom": null,
            "display": null,
            "flex": null,
            "flex_flow": null,
            "grid_area": null,
            "grid_auto_columns": null,
            "grid_auto_flow": null,
            "grid_auto_rows": null,
            "grid_column": null,
            "grid_gap": null,
            "grid_row": null,
            "grid_template_areas": null,
            "grid_template_columns": null,
            "grid_template_rows": null,
            "height": null,
            "justify_content": null,
            "justify_items": null,
            "left": null,
            "margin": null,
            "max_height": null,
            "max_width": null,
            "min_height": null,
            "min_width": null,
            "object_fit": null,
            "object_position": null,
            "order": null,
            "overflow": null,
            "overflow_x": null,
            "overflow_y": null,
            "padding": null,
            "right": null,
            "top": null,
            "visibility": null,
            "width": null
          }
        },
        "21e7fba8f41e4f9896a24c4f13774e0d": {
          "model_module": "@jupyter-widgets/controls",
          "model_name": "DescriptionStyleModel",
          "model_module_version": "1.5.0",
          "state": {
            "_model_module": "@jupyter-widgets/controls",
            "_model_module_version": "1.5.0",
            "_model_name": "DescriptionStyleModel",
            "_view_count": null,
            "_view_module": "@jupyter-widgets/base",
            "_view_module_version": "1.2.0",
            "_view_name": "StyleView",
            "description_width": ""
          }
        }
      }
    }
  },
  "cells": [
    {
      "cell_type": "markdown",
      "metadata": {
        "id": "view-in-github",
        "colab_type": "text"
      },
      "source": [
        "<a href=\"https://colab.research.google.com/github/vifirsanova/spbu-mathling/blob/main/Transfer_Learning_HuggingFace.ipynb\" target=\"_parent\"><img src=\"https://colab.research.google.com/assets/colab-badge.svg\" alt=\"Open In Colab\"/></a>"
      ]
    },
    {
      "cell_type": "markdown",
      "source": [
        "```\n",
        "Туториал Виктории Фирсановой для кафедры математической лингвистики СПбГУ\n",
        "\n",
        "github @vifirsanova\n",
        "```"
      ],
      "metadata": {
        "id": "DZLXJ9aYtyJL"
      }
    },
    {
      "cell_type": "markdown",
      "source": [
        "# Загрузка библиотек Transformers и Datasets"
      ],
      "metadata": {
        "id": "mAsRS-b4pcB5"
      }
    },
    {
      "cell_type": "code",
      "source": [
        "!pip install accelerate -U"
      ],
      "metadata": {
        "id": "oMoJvx8jkwxZ"
      },
      "execution_count": null,
      "outputs": []
    },
    {
      "cell_type": "code",
      "execution_count": null,
      "metadata": {
        "id": "XgPosMXme_zV"
      },
      "outputs": [],
      "source": [
        "!pip install transformers datasets"
      ]
    },
    {
      "cell_type": "markdown",
      "source": [
        "# Загрузка датасета IMDB\n",
        "\n",
        "[Карточка датасета на HuggingFace](https://huggingface.co/datasets/imdb)\n",
        "\n",
        "![image.png](data:image/png;base64,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)"
      ],
      "metadata": {
        "id": "vq-Ib5IEpklI"
      }
    },
    {
      "cell_type": "code",
      "source": [
        "from datasets import load_dataset\n",
        "imdb = load_dataset(\"imdb\")"
      ],
      "metadata": {
        "id": "a1shG8jPfUVB"
      },
      "execution_count": null,
      "outputs": []
    },
    {
      "cell_type": "markdown",
      "source": [
        "Сохраняем в отдельные переменные тестовую и обучающую выборки."
      ],
      "metadata": {
        "id": "M3zXQDs5p7mM"
      }
    },
    {
      "cell_type": "code",
      "source": [
        "# для учебных целей перемешаем и оставим только 1000 примеров в обучающей выборке\n",
        "train = imdb[\"train\"].shuffle().select([x for x in list(range(1000))])\n",
        "# оставим 100 примеров в тестовой выборке\n",
        "test = imdb[\"test\"].shuffle().select([x for x in list(range(100))])"
      ],
      "metadata": {
        "id": "8ZM0MrfWgxtH"
      },
      "execution_count": null,
      "outputs": []
    },
    {
      "cell_type": "markdown",
      "source": [
        "Структура HuggingFace Datasets"
      ],
      "metadata": {
        "id": "dSt3DlHtqQzs"
      }
    },
    {
      "cell_type": "code",
      "source": [
        "train"
      ],
      "metadata": {
        "colab": {
          "base_uri": "https://localhost:8080/"
        },
        "id": "wNbHqDqxiGYd",
        "outputId": "8b4b1c16-5194-427b-95b4-8f8543e6aa90"
      },
      "execution_count": null,
      "outputs": [
        {
          "output_type": "execute_result",
          "data": {
            "text/plain": [
              "Dataset({\n",
              "    features: ['text', 'label'],\n",
              "    num_rows: 1000\n",
              "})"
            ]
          },
          "metadata": {},
          "execution_count": 4
        }
      ]
    },
    {
      "cell_type": "markdown",
      "source": [
        "Выведем на экран один положительный и один отрирательный отзыв"
      ],
      "metadata": {
        "id": "5u68IgHbqbEG"
      }
    },
    {
      "cell_type": "code",
      "source": [
        "print('Негативный отзыв\\n')\n",
        "[x for x in train if x['label'] == 0][0]['text']"
      ],
      "metadata": {
        "colab": {
          "base_uri": "https://localhost:8080/",
          "height": 140
        },
        "id": "khIdK3aBg8_h",
        "outputId": "508744ac-d82e-417b-cf7c-e33581888b7c"
      },
      "execution_count": null,
      "outputs": [
        {
          "output_type": "stream",
          "name": "stdout",
          "text": [
            "Негативный отзыв\n",
            "\n"
          ]
        },
        {
          "output_type": "execute_result",
          "data": {
            "text/plain": [
              "\"Spoilers... if such a thing is possible... . . . . . . . As a rabid Robin Williams fan, I felt it necessary to buy this film as first on-screen appearance. Wow... I could not imagine a more mind-numbing movie. Essentially, the movie takes one bad joke after another that your uncle Artie would tell you after dinner and dramatizes them. Robin Williams plays a lawyer in a 30 sec skit.<br /><br />I'm all for bawdy humor, but this humor wasn't pleasantly vulgar, or ribald... it was just mind-numbing. There are no redeeming qualities to this film, other than Robin Williams fanatics, like me, who simply have to own every piece of film.\""
            ],
            "application/vnd.google.colaboratory.intrinsic+json": {
              "type": "string"
            }
          },
          "metadata": {},
          "execution_count": 45
        }
      ]
    },
    {
      "cell_type": "code",
      "source": [
        "print('Положительный отзыв\\n')\n",
        "[x for x in train if x['label'] == 1][0]['text']"
      ],
      "metadata": {
        "colab": {
          "base_uri": "https://localhost:8080/",
          "height": 192
        },
        "id": "HznBgqKmhIAR",
        "outputId": "4d51299b-e22b-48d8-c8c7-9e790b98da83"
      },
      "execution_count": null,
      "outputs": [
        {
          "output_type": "stream",
          "name": "stdout",
          "text": [
            "Положительный отзыв\n",
            "\n"
          ]
        },
        {
          "output_type": "execute_result",
          "data": {
            "text/plain": [
              "'You know how Star Trek fans flocked to all the Star Trek movies, even the really bad ones? Why? To see their heroes in action one more time. That\\'s the way I feel about Doc Savage. I am a major fanatic for the character, and the prospect of seeing Doc and his crew in an adventure was overwhelming. And the first 20 minutes of the film only heightened that feeling of anticipation. Then they decided to crib elements from a number of Doc adventures and throw them into this one movie, resulting in a somewhat disjointed film. There\\'s a lot of promise in here, diluted by a number of unfortunate choices (the music, the \"camp\" elements, etc.) But the spirit of Doc is there, and that\\'s what those of us familiar with Doc and his crew respond to. So, in my long-winded way, what I\\'m trying to say is that this is not a bad movie: it\\'s just not as good as it should have been. And anyone who is a fan of Superman, James Bond, Indiana Jones, Buckaroo Banzai, and many other characters ought to check this movie out just to become familiar with the hero who provided inspiration for them all.'"
            ],
            "application/vnd.google.colaboratory.intrinsic+json": {
              "type": "string"
            }
          },
          "metadata": {},
          "execution_count": 46
        }
      ]
    },
    {
      "cell_type": "markdown",
      "source": [
        "# Токенизация"
      ],
      "metadata": {
        "id": "ATTY90CUrGwb"
      }
    },
    {
      "cell_type": "markdown",
      "source": [
        "Загружаем токенизатор для модели DistilBERT"
      ],
      "metadata": {
        "id": "7UDbBIsmrTkg"
      }
    },
    {
      "cell_type": "code",
      "source": [
        "from transformers import AutoTokenizer\n",
        "tokenizer = AutoTokenizer.from_pretrained(\"distilbert-base-uncased\")"
      ],
      "metadata": {
        "id": "fCotS9BMhbTy"
      },
      "execution_count": null,
      "outputs": []
    },
    {
      "cell_type": "markdown",
      "source": [
        "[Обзор токенизаторов HF](https://huggingface.co/docs/transformers/tokenizer_summary)\n",
        "\n",
        "Посмотрим, как работает этот токенизатор\n",
        "\n",
        "- Какой это тип токенизации?\n",
        "- Есть ли здесь OOV и почему?\n",
        "- Как зашифрованы токены?"
      ],
      "metadata": {
        "id": "CKIG7Up1rZCl"
      }
    },
    {
      "cell_type": "code",
      "source": [
        "tokenizer.tokenize(train[10]['text'])[:10]"
      ],
      "metadata": {
        "colab": {
          "base_uri": "https://localhost:8080/"
        },
        "id": "9uvCAjk3i3Cu",
        "outputId": "baba5477-32ad-4d8c-a924-d545a249d22a"
      },
      "execution_count": null,
      "outputs": [
        {
          "output_type": "execute_result",
          "data": {
            "text/plain": [
              "['i', \"'\", 've', 'seen', 'plenty', 'of', 'sci', '-', 'fi', 'channel']"
            ]
          },
          "metadata": {},
          "execution_count": 8
        }
      ]
    },
    {
      "cell_type": "code",
      "source": [
        "tokenizer.tokenize(train[10]['text'])[-10:]"
      ],
      "metadata": {
        "colab": {
          "base_uri": "https://localhost:8080/"
        },
        "id": "_LhNA0qFjl2R",
        "outputId": "c159a2f1-ba69-46d1-b531-b381f4870585"
      },
      "execution_count": null,
      "outputs": [
        {
          "output_type": "execute_result",
          "data": {
            "text/plain": [
              "['it', \"'\", 's', 'dar', '##n', 'near', 'un', '##watch', '##able', '.']"
            ]
          },
          "metadata": {},
          "execution_count": 9
        }
      ]
    },
    {
      "cell_type": "markdown",
      "source": [
        "Функция для быстрой токенизации текстов"
      ],
      "metadata": {
        "id": "8u4YRkuIr6jw"
      }
    },
    {
      "cell_type": "code",
      "source": [
        "def preprocess_function(examples):\n",
        "   return tokenizer(examples[\"text\"], truncation=True)\n",
        "\n",
        "tokenized_train = train.map(preprocess_function, batched=True)\n",
        "tokenized_test = test.map(preprocess_function, batched=True)"
      ],
      "metadata": {
        "colab": {
          "base_uri": "https://localhost:8080/",
          "height": 81,
          "referenced_widgets": [
            "882e9095506a4869ab8b1a7d86646681",
            "5f3312686e6a4ad39f5359a6bc18572a",
            "b02f9d1a7e854637a74218bfcbd655d2",
            "22c289a9ad744cdcb2afa0de7d42b98c",
            "902f3b1293a143aaafd688303f7685fd",
            "ad10fbe012154a8484883882291b3f78",
            "1261c4181efa4878b69596a9d9508abc",
            "3105494fa9de4065b5776fcc859629e3",
            "68d89cee3a214d3792975e4ef7f96814",
            "3b6c3f9bb9494fd4b28032620964ef9e",
            "c98c3b017e824e5aa3cd4eb9efc7731c",
            "fa3ed006f1fe4e5995ee222d7d8a0cf7",
            "2ed1f90a89ce4cab8aea23562c524251",
            "f569b71d3eac415898dc0a43df62528f",
            "0e256a97161a4c16a2f5876a613ccf42",
            "cc39eed17eaf415a89f23afba95f8b72",
            "5c4d6a4b39a649ce82bb20563ca28bc2",
            "138b2564161043d28c82b50c9bdb671a",
            "5997dcadc56446e19a22f53fb43684c4",
            "ee65b24905cd431f92b10bfb9f34e4a6",
            "53a60cb0728a4b49ab38aafad7b24649",
            "bb6c3fbee5574c379bb00813ed4c8618"
          ]
        },
        "id": "Nw5nFRUbho2J",
        "outputId": "a53917d5-3605-4def-ac82-b4be1d54a449"
      },
      "execution_count": null,
      "outputs": [
        {
          "output_type": "display_data",
          "data": {
            "text/plain": [
              "Map:   0%|          | 0/1000 [00:00<?, ? examples/s]"
            ],
            "application/vnd.jupyter.widget-view+json": {
              "version_major": 2,
              "version_minor": 0,
              "model_id": "882e9095506a4869ab8b1a7d86646681"
            }
          },
          "metadata": {}
        },
        {
          "output_type": "display_data",
          "data": {
            "text/plain": [
              "Map:   0%|          | 0/100 [00:00<?, ? examples/s]"
            ],
            "application/vnd.jupyter.widget-view+json": {
              "version_major": 2,
              "version_minor": 0,
              "model_id": "fa3ed006f1fe4e5995ee222d7d8a0cf7"
            }
          },
          "metadata": {}
        }
      ]
    },
    {
      "cell_type": "markdown",
      "source": [
        "Структура токенизованной информации"
      ],
      "metadata": {
        "id": "kBE3L0ocsA0k"
      }
    },
    {
      "cell_type": "code",
      "source": [
        "tokenized_train"
      ],
      "metadata": {
        "colab": {
          "base_uri": "https://localhost:8080/"
        },
        "id": "ebnOm-_aiCk8",
        "outputId": "152ccc14-9b1e-4e3e-9a70-a61a20e25124"
      },
      "execution_count": null,
      "outputs": [
        {
          "output_type": "execute_result",
          "data": {
            "text/plain": [
              "Dataset({\n",
              "    features: ['text', 'label', 'input_ids', 'attention_mask'],\n",
              "    num_rows: 1000\n",
              "})"
            ]
          },
          "metadata": {},
          "execution_count": 11
        }
      ]
    },
    {
      "cell_type": "markdown",
      "source": [
        "Что означают 101 и 102 в закодированных последовательностях?"
      ],
      "metadata": {
        "id": "RcTzFR7TsHHz"
      }
    },
    {
      "cell_type": "code",
      "source": [
        "tokenized_train[10]['input_ids'][:11]"
      ],
      "metadata": {
        "colab": {
          "base_uri": "https://localhost:8080/"
        },
        "id": "_2wSNnHsiDh8",
        "outputId": "bacf1ec2-2667-40c4-c844-344d4a47fc5f"
      },
      "execution_count": null,
      "outputs": [
        {
          "output_type": "execute_result",
          "data": {
            "text/plain": [
              "[101, 1045, 1005, 2310, 2464, 7564, 1997, 16596, 1011, 10882, 3149]"
            ]
          },
          "metadata": {},
          "execution_count": 12
        }
      ]
    },
    {
      "cell_type": "code",
      "source": [
        "tokenized_train[10]['input_ids'][-11:]"
      ],
      "metadata": {
        "colab": {
          "base_uri": "https://localhost:8080/"
        },
        "id": "NEgQ7tSRiKwI",
        "outputId": "c8aebe1e-002d-4699-aa9a-5a3719ab7192"
      },
      "execution_count": null,
      "outputs": [
        {
          "output_type": "execute_result",
          "data": {
            "text/plain": [
              "[2009, 1005, 1055, 18243, 2078, 2379, 4895, 18866, 3085, 1012, 102]"
            ]
          },
          "metadata": {},
          "execution_count": 13
        }
      ]
    },
    {
      "cell_type": "markdown",
      "source": [
        "# Сборка модели"
      ],
      "metadata": {
        "id": "gv4tH-w3sgPg"
      }
    },
    {
      "cell_type": "markdown",
      "source": [
        "Подгружаем модель [DistilBERT](https://huggingface.co/distilbert-base-uncased) из хаба\n",
        "\n",
        "![image.png](data:image/png;base64,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)\n",
        "\n"
      ],
      "metadata": {
        "id": "fywcziyFskmp"
      }
    },
    {
      "cell_type": "code",
      "source": [
        "from transformers import DataCollatorWithPadding\n",
        "data_collator = DataCollatorWithPadding(tokenizer=tokenizer)\n",
        "\n",
        "from transformers import AutoModelForSequenceClassification\n",
        "model = AutoModelForSequenceClassification.from_pretrained(\"distilbert-base-uncased\", num_labels=2)"
      ],
      "metadata": {
        "id": "mcP69gN3ih2m"
      },
      "execution_count": null,
      "outputs": []
    },
    {
      "cell_type": "markdown",
      "source": [
        "Функция для расчета метрик оценки производительности модели"
      ],
      "metadata": {
        "id": "gdf0iRZOs8SP"
      }
    },
    {
      "cell_type": "code",
      "source": [
        "import numpy as np\n",
        "from datasets import load_metric\n",
        "\n",
        "def compute_metrics(eval_pred):\n",
        "   load_accuracy = load_metric(\"accuracy\")\n",
        "   load_f1 = load_metric(\"f1\")\n",
        "\n",
        "   logits, labels = eval_pred\n",
        "   predictions = np.argmax(logits, axis=-1)\n",
        "   accuracy = load_accuracy.compute(predictions=predictions, references=labels)[\"accuracy\"]\n",
        "   f1 = load_f1.compute(predictions=predictions, references=labels)[\"f1\"]\n",
        "   return {\"accuracy\": accuracy, \"f1\": f1}"
      ],
      "metadata": {
        "id": "36JNbpDsj7h4"
      },
      "execution_count": null,
      "outputs": []
    },
    {
      "cell_type": "markdown",
      "source": [
        "# Обучение и оценка"
      ],
      "metadata": {
        "id": "dvWHD7TJtKV9"
      }
    },
    {
      "cell_type": "markdown",
      "source": [
        "Trainer - инструмент от HuggingFace\n",
        "\n",
        "С его помощью удобно задавать аргументы обучения модели, настраивать гиперпараметры"
      ],
      "metadata": {
        "id": "h9LA-ofDtAk8"
      }
    },
    {
      "cell_type": "code",
      "source": [
        "from transformers import TrainingArguments, Trainer\n",
        "\n",
        "training_args = TrainingArguments(\n",
        "   output_dir=\"sentibert\",\n",
        "   learning_rate=2e-5,\n",
        "   per_device_train_batch_size=16,\n",
        "   per_device_eval_batch_size=16,\n",
        "   num_train_epochs=2,\n",
        "   weight_decay=0.01,\n",
        "   save_strategy=\"epoch\"\n",
        ")\n",
        "\n",
        "trainer = Trainer(\n",
        "   model=model,\n",
        "   args=training_args,\n",
        "   train_dataset=tokenized_train,\n",
        "   eval_dataset=tokenized_test,\n",
        "   tokenizer=tokenizer,\n",
        "   data_collator=data_collator,\n",
        "   compute_metrics=compute_metrics\n",
        ")"
      ],
      "metadata": {
        "id": "lT6r0lEgj_-B"
      },
      "execution_count": null,
      "outputs": []
    },
    {
      "cell_type": "code",
      "source": [
        "trainer.train()"
      ],
      "metadata": {
        "colab": {
          "base_uri": "https://localhost:8080/",
          "height": 147
        },
        "id": "n4G36i9AkMkP",
        "outputId": "f3ab64f9-6f17-41f5-c110-5bfc3c727d21"
      },
      "execution_count": null,
      "outputs": [
        {
          "output_type": "stream",
          "name": "stderr",
          "text": [
            "You're using a DistilBertTokenizerFast tokenizer. Please note that with a fast tokenizer, using the `__call__` method is faster than using a method to encode the text followed by a call to the `pad` method to get a padded encoding.\n"
          ]
        },
        {
          "output_type": "display_data",
          "data": {
            "text/plain": [
              "<IPython.core.display.HTML object>"
            ],
            "text/html": [
              "\n",
              "    <div>\n",
              "      \n",
              "      <progress value='126' max='126' style='width:300px; height:20px; vertical-align: middle;'></progress>\n",
              "      [126/126 01:44, Epoch 2/2]\n",
              "    </div>\n",
              "    <table border=\"1\" class=\"dataframe\">\n",
              "  <thead>\n",
              " <tr style=\"text-align: left;\">\n",
              "      <th>Step</th>\n",
              "      <th>Training Loss</th>\n",
              "    </tr>\n",
              "  </thead>\n",
              "  <tbody>\n",
              "  </tbody>\n",
              "</table><p>"
            ]
          },
          "metadata": {}
        },
        {
          "output_type": "execute_result",
          "data": {
            "text/plain": [
              "TrainOutput(global_step=126, training_loss=0.4481160905626085, metrics={'train_runtime': 111.0182, 'train_samples_per_second': 18.015, 'train_steps_per_second': 1.135, 'total_flos': 262612478229312.0, 'train_loss': 0.4481160905626085, 'epoch': 2.0})"
            ]
          },
          "metadata": {},
          "execution_count": 20
        }
      ]
    },
    {
      "cell_type": "code",
      "source": [
        "trainer.evaluate()"
      ],
      "metadata": {
        "colab": {
          "base_uri": "https://localhost:8080/",
          "height": 277,
          "referenced_widgets": [
            "22484d543c50440b88102569e369e845",
            "acc269c05c024f159bb9b401f1ab0841",
            "075a7fea85674ba4bc7db4d5c51b2e4f",
            "2eb5df44939044c38d07cba03be6dc9f",
            "5508eb64763e4dada7971c0fa22b6b97",
            "973e8a2e05c4401b9cc9dd628ce4c132",
            "e9be14340b6b450ca4a91146adcbad81",
            "349d9ecea10c48f580d90bd4d63f6463",
            "0797f1bf417b4593b4d1f59d049fa978",
            "84a18e786eca4b40aae6000560b516ec",
            "3beaa754550d4fd58283dca13b353955",
            "33d36901f5984cd3b0df04da20f0f41b",
            "ff09be8cee414845b979c5facaec420f",
            "126bafc854a64091983113c8440b24c8",
            "5da420eb7bc44703a498b195ffb3e60d",
            "92e4e8df58674281bd1b49a4b0474a20",
            "b022fdd606dd45088cf000a987a2b1b9",
            "698808e3b8f343b8bb794d5d955fe014",
            "8dc4a679ad044f999aa00b0a40840a74",
            "42e5ff48776f4d0c91a6b9c86936d840",
            "9652bd7801284c69897739ccef3021f3",
            "21e7fba8f41e4f9896a24c4f13774e0d"
          ]
        },
        "id": "zRN6BfDJktM9",
        "outputId": "5d63157a-49ba-41af-df84-8690fc754c23"
      },
      "execution_count": null,
      "outputs": [
        {
          "output_type": "display_data",
          "data": {
            "text/plain": [
              "<IPython.core.display.HTML object>"
            ],
            "text/html": [
              "\n",
              "    <div>\n",
              "      \n",
              "      <progress value='7' max='7' style='width:300px; height:20px; vertical-align: middle;'></progress>\n",
              "      [7/7 00:01]\n",
              "    </div>\n",
              "    "
            ]
          },
          "metadata": {}
        },
        {
          "output_type": "stream",
          "name": "stderr",
          "text": [
            "<ipython-input-18-b1430cee0b64>:5: FutureWarning: load_metric is deprecated and will be removed in the next major version of datasets. Use 'evaluate.load' instead, from the new library 🤗 Evaluate: https://huggingface.co/docs/evaluate\n",
            "  load_accuracy = load_metric(\"accuracy\")\n"
          ]
        },
        {
          "output_type": "display_data",
          "data": {
            "text/plain": [
              "Downloading builder script:   0%|          | 0.00/1.65k [00:00<?, ?B/s]"
            ],
            "application/vnd.jupyter.widget-view+json": {
              "version_major": 2,
              "version_minor": 0,
              "model_id": "22484d543c50440b88102569e369e845"
            }
          },
          "metadata": {}
        },
        {
          "output_type": "display_data",
          "data": {
            "text/plain": [
              "Downloading builder script:   0%|          | 0.00/2.32k [00:00<?, ?B/s]"
            ],
            "application/vnd.jupyter.widget-view+json": {
              "version_major": 2,
              "version_minor": 0,
              "model_id": "33d36901f5984cd3b0df04da20f0f41b"
            }
          },
          "metadata": {}
        },
        {
          "output_type": "execute_result",
          "data": {
            "text/plain": [
              "{'eval_loss': 0.2759309709072113,\n",
              " 'eval_accuracy': 0.89,\n",
              " 'eval_f1': 0.8842105263157894,\n",
              " 'eval_runtime': 3.3184,\n",
              " 'eval_samples_per_second': 30.135,\n",
              " 'eval_steps_per_second': 2.109,\n",
              " 'epoch': 2.0}"
            ]
          },
          "metadata": {},
          "execution_count": 21
        }
      ]
    },
    {
      "cell_type": "markdown",
      "source": [
        "# Сохранение и использование модели"
      ],
      "metadata": {
        "id": "HezsdRT5tVwH"
      }
    },
    {
      "cell_type": "code",
      "source": [
        "model.save_pretrained(\"sentibert_tuned\")"
      ],
      "metadata": {
        "id": "nSL0cjQlnV26"
      },
      "execution_count": null,
      "outputs": []
    },
    {
      "cell_type": "markdown",
      "source": [
        "Pipeline - инструмент HuggingFace, с помощью которого вам достаточно загрузить модель и подходящий токенизатор для использования модели для конкретной задачи"
      ],
      "metadata": {
        "id": "h2SjPI7QtlkI"
      }
    },
    {
      "cell_type": "code",
      "source": [
        "from transformers import pipeline\n",
        "\n",
        "sentiment_model = pipeline(task=\"sentiment-analysis\", model=\"/content/sentibert_tuned\", tokenizer=tokenizer)\n",
        "sentiment_model([\"I love this move\", \"This movie is horrible!\"])"
      ],
      "metadata": {
        "colab": {
          "base_uri": "https://localhost:8080/"
        },
        "id": "drm4QXQgl8fb",
        "outputId": "a1bee498-a8b1-4a9d-989b-d1e6b7e7a3e9"
      },
      "execution_count": null,
      "outputs": [
        {
          "output_type": "execute_result",
          "data": {
            "text/plain": [
              "[{'label': 'LABEL_1', 'score': 0.810382604598999},\n",
              " {'label': 'LABEL_0', 'score': 0.8349524140357971}]"
            ]
          },
          "metadata": {},
          "execution_count": 40
        }
      ]
    }
  ]
}